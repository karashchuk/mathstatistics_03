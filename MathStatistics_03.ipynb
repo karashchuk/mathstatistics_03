{
  "nbformat": 4,
  "nbformat_minor": 0,
  "metadata": {
    "colab": {
      "name": "MathStatistics_03.ipynb",
      "provenance": []
    },
    "kernelspec": {
      "name": "python3",
      "display_name": "Python 3"
    }
  },
  "cells": [
    {
      "cell_type": "markdown",
      "metadata": {
        "id": "YbOeMHBuPVj2",
        "colab_type": "text"
      },
      "source": [
        "\n",
        "\n",
        "# Решение заданий к уроку 3\n",
        "\n"
      ]
    },
    {
      "cell_type": "markdown",
      "metadata": {
        "id": "tlukUuZqOdPn",
        "colab_type": "text"
      },
      "source": [
        "__Задача 1__\n",
        "\n",
        "Даны значения зарплат из выборки выпускников: \n",
        "```\n",
        "100, 80, 75, 77, 89, 33, 45, 25, 65, 17, 30, 230, 24, 57, 55, 70, 75, 65, 84, 90, 150\n",
        "```\n",
        "Используя только встроенные питоновские функции и структуры данных (т.е. без библиотек `numpy`, `pandas` и др.) посчитать среднее арифметическое, смещённую и несмещённую оценки дисперсии, среднее квадратичное отклонение для данной выборки.\n",
        "\n",
        "Можно затем посчитать те же значения с использованием библиотек, чтобы проверить себя.\n",
        "\n"
      ]
    },
    {
      "cell_type": "code",
      "metadata": {
        "id": "Ch2Aow8xPPRV",
        "colab_type": "code",
        "colab": {}
      },
      "source": [
        "import numpy as np\n",
        "sal = [100, 80, 75, 77, 89, 33, 45, 25, 65, 17, 30, 230, 24, 57, 55, 70, 75, 65, 84, 90, 150]\n"
      ],
      "execution_count": 104,
      "outputs": []
    },
    {
      "cell_type": "code",
      "metadata": {
        "id": "3yY1ElUWP7P3",
        "colab_type": "code",
        "colab": {
          "base_uri": "https://localhost:8080/",
          "height": 34
        },
        "outputId": "f0320442-451c-4878-b90d-2fd44c766f63"
      },
      "source": [
        "# Среднее арифметическое\n",
        "s_mean = sum(sal)/len(sal)\n",
        "s_mean, np.mean(sal)"
      ],
      "execution_count": 8,
      "outputs": [
        {
          "output_type": "execute_result",
          "data": {
            "text/plain": [
              "(73.14285714285714, 73.14285714285714)"
            ]
          },
          "metadata": {
            "tags": []
          },
          "execution_count": 8
        }
      ]
    },
    {
      "cell_type": "code",
      "metadata": {
        "id": "8FSd-gePQobo",
        "colab_type": "code",
        "colab": {
          "base_uri": "https://localhost:8080/",
          "height": 51
        },
        "outputId": "28f6310a-b013-4d8b-f890-be10344e1d0f"
      },
      "source": [
        "# Дисперсия смещенная\n",
        "dd = 0\n",
        "for i in sal:\n",
        "  dd += (i - s_mean)**2\n",
        "s_d_0 = dd/len(sal)\n",
        "print(f'Дисперсия смещенная \\t= {s_d_0},\\t проверка np.var = {np.var(sal)} ')\n",
        "\n",
        "# Дисперсия несмещенная\n",
        "s_d_1 = dd/(len(sal)-1)\n",
        "#print (s_d_1, np.var(sal, ddof = 1))\n",
        "print(f'Дисперсия несмещенная \\t= {s_d_1},\\t проверка np.var = {np.var(sal, ddof = 1)}')"
      ],
      "execution_count": 165,
      "outputs": [
        {
          "output_type": "stream",
          "text": [
            "Дисперсия смещенная \t= 2135.074829931973,\t проверка np.var = 2135.0748299319725 \n",
            "Дисперсия несмещенная \t= 2241.8285714285716,\t проверка np.var = 2241.828571428571\n"
          ],
          "name": "stdout"
        }
      ]
    },
    {
      "cell_type": "code",
      "metadata": {
        "id": "AdSOzLU2VOJU",
        "colab_type": "code",
        "colab": {
          "base_uri": "https://localhost:8080/",
          "height": 51
        },
        "outputId": "e9f1ff7d-1417-47a6-9fe2-ec2761766e05"
      },
      "source": [
        "# среднее квадратичное отклонение (несмещенная оценка)\n",
        "s_std_1 = (s_d_1)**(1/2)\n",
        "print(f'среднее квадратичное отклонение (несмещенная оценка) \\t= {s_std_1},\\t проверка np.std = {np.std(sal, ddof = 1)}')\n",
        "\n",
        "# среднее квадратичное отклонение (смещенная оценка)\n",
        "s_std_0 = (s_d_0)**(1/2)\n",
        "print(f'среднее квадратичное отклонение (несмещенная оценка) \\t= {s_std_0},\\t проверка np.std = {np.std(sal, ddof = 0)}')"
      ],
      "execution_count": 168,
      "outputs": [
        {
          "output_type": "stream",
          "text": [
            "среднее квадратичное отклонение (несмещенная оценка) \t= 47.34795213553139,\t проверка np.std = 47.347952135531386\n",
            "среднее квадратичное отклонение (несмещенная оценка) \t= 46.20686994302874,\t проверка np.std = 46.206869943028735\n"
          ],
          "name": "stdout"
        }
      ]
    },
    {
      "cell_type": "markdown",
      "metadata": {
        "id": "woirH-HVPmMu",
        "colab_type": "text"
      },
      "source": [
        "__Задача 2__\n",
        "\n",
        "Для выборки из задачи 1 найти (также без использования библиотек):\n",
        "1. медиану, первый и третий квартили, интерквартильное расстояние,\n",
        "2. выборсы в выборке (используя для этого метод как при построении \"усов\" из `boxplot`). \n",
        "\n",
        "Возможные неоднозначности в вычислении квантилей можно разрешать любым способом.\n",
        "\n"
      ]
    },
    {
      "cell_type": "code",
      "metadata": {
        "id": "F7lufsxRPoSa",
        "colab_type": "code",
        "colab": {}
      },
      "source": [
        "# определим функцию вычисления квантили\n",
        "def quantil(arr,q): # q задется в интервале от 0 до 1\n",
        "  arr_sorted = sorted(arr)\n",
        "  n = len(arr)\n",
        "  i = int(q*(n-1))\n",
        "  if i == q*(n-1): # если можем выделить средний элемент\n",
        "    arr_q = arr_sorted[i]\n",
        "  else: # иначе берем меньший элемент и добавляем к нему разность между ним и следующим элементом умноженнуюю на дробную часть от от умножения q на (n-1), то есть пропорционально разбиваем отрезок \n",
        "    arr_q = arr_sorted[i]+(arr_sorted[i+1]-arr_sorted[i])*(q*(n-1)-i)\n",
        "  return arr_q      \n",
        "#np.median(ssal), quantil(sal, 0.5)  "
      ],
      "execution_count": 108,
      "outputs": []
    },
    {
      "cell_type": "code",
      "metadata": {
        "id": "J4zN0jGai-5W",
        "colab_type": "code",
        "colab": {
          "base_uri": "https://localhost:8080/",
          "height": 68
        },
        "outputId": "e62a1577-9537-4704-df42-2a6b682234ef"
      },
      "source": [
        "for q in [0.25,0.5,0.75]:\n",
        "  print(f'quantile {q} :\\t вычисленное - {quantil(sal, q)},\\t np.quantile - {np.quantile(sal,q)}')\n",
        "# медиана = quantile(0.25)"
      ],
      "execution_count": 157,
      "outputs": [
        {
          "output_type": "stream",
          "text": [
            "quantile 0.25 :\t вычисленное - 45,\t np.quantile - 45.0\n",
            "quantile 0.5 :\t вычисленное - 70,\t np.quantile - 70.0\n",
            "quantile 0.75 :\t вычисленное - 84,\t np.quantile - 84.0\n"
          ],
          "name": "stdout"
        }
      ]
    },
    {
      "cell_type": "code",
      "metadata": {
        "id": "kfbY10A9b46r",
        "colab_type": "code",
        "colab": {
          "base_uri": "https://localhost:8080/",
          "height": 34
        },
        "outputId": "31073318-35f8-433d-9f11-a9d2b7a549d8"
      },
      "source": [
        "# проверим нашу функцию на четном числе выборки\n",
        "# возьмем список чисел с четным числом и сравним с np.quantile\n",
        "ss = [100, 80, 75, 77, 89, 33, 45, 25, 65, 17, 30, 230, 24, 57, 55, 70, 75, 80]  \n",
        "len(ss) "
      ],
      "execution_count": 169,
      "outputs": [
        {
          "output_type": "execute_result",
          "data": {
            "text/plain": [
              "18"
            ]
          },
          "metadata": {
            "tags": []
          },
          "execution_count": 169
        }
      ]
    },
    {
      "cell_type": "code",
      "metadata": {
        "id": "GZuLfiP-cMjU",
        "colab_type": "code",
        "colab": {
          "base_uri": "https://localhost:8080/",
          "height": 68
        },
        "outputId": "79cbd60f-d7e9-44d2-c2bd-8b28039f7eaf"
      },
      "source": [
        "for q in [0.25,0.5,0.75]:\n",
        "  print(f'quantile {q} :\\t вычисленное - {quantil(ss, q)},\\t np.quantile - {np.quantile(ss,q)}')"
      ],
      "execution_count": 170,
      "outputs": [
        {
          "output_type": "stream",
          "text": [
            "quantile 0.25 :\t вычисленное - 36.0,\t np.quantile - 36.0\n",
            "quantile 0.5 :\t вычисленное - 67.5,\t np.quantile - 67.5\n",
            "quantile 0.75 :\t вычисленное - 79.25,\t np.quantile - 79.25\n"
          ],
          "name": "stdout"
        }
      ]
    },
    {
      "cell_type": "markdown",
      "metadata": {
        "id": "Fxmnmxt-9ZHO",
        "colab_type": "text"
      },
      "source": [
        "----\n"
      ]
    },
    {
      "cell_type": "code",
      "metadata": {
        "id": "aSWr7XJTXjHL",
        "colab_type": "code",
        "colab": {
          "base_uri": "https://localhost:8080/",
          "height": 34
        },
        "outputId": "08c1c03a-9fcd-4dfe-f1a2-6e11fcd3e9ea"
      },
      "source": [
        "# интерквартильное расстояние\n",
        "iqr = quantil(sal, 0.75) - quantil(sal, 0.25)\n",
        "print(f'интерквартильное расстояние = {iqr}')"
      ],
      "execution_count": 172,
      "outputs": [
        {
          "output_type": "stream",
          "text": [
            "интерквартильное расстояние = 39\n"
          ],
          "name": "stdout"
        }
      ]
    },
    {
      "cell_type": "code",
      "metadata": {
        "id": "rWOQFVlItstN",
        "colab_type": "code",
        "colab": {
          "base_uri": "https://localhost:8080/",
          "height": 34
        },
        "outputId": "ccf56ebb-7c9a-4251-f36f-04652ad0f6e3"
      },
      "source": [
        "# Для нагляности выведем сортированный список\n",
        "s_sal = sorted(sal)\n",
        "print(s_sal)"
      ],
      "execution_count": 174,
      "outputs": [
        {
          "output_type": "stream",
          "text": [
            "[17, 24, 25, 30, 33, 45, 55, 57, 65, 65, 70, 75, 75, 77, 80, 84, 89, 90, 100, 150, 230]\n"
          ],
          "name": "stdout"
        }
      ]
    },
    {
      "cell_type": "code",
      "metadata": {
        "id": "FjOJCAbftHSr",
        "colab_type": "code",
        "colab": {
          "base_uri": "https://localhost:8080/",
          "height": 34
        },
        "outputId": "0c11315a-ca8e-43cf-ff84-f1253f78f3b2"
      },
      "source": [
        "#вычислим усы\n",
        "\n",
        "q1 = quantil(s_sal, 0.25)\n",
        "q3 = quantil(s_sal, 0.75)\n",
        "iqr = q3-q1\n",
        "\n",
        "#boxplot_range = ((q1 - 1.5 * iqr) if (q1 - 1.5 * iqr) > s_sal[0] else s_sal[0] , q3 + 1.5 * iqr) # так не вылетает за границы выборки\n",
        "\n",
        "boxplot_range = ((q1 - 1.5 * iqr) , q3 + 1.5 * iqr)\n",
        "boxplot_range"
      ],
      "execution_count": 150,
      "outputs": [
        {
          "output_type": "execute_result",
          "data": {
            "text/plain": [
              "(-13.5, 142.5)"
            ]
          },
          "metadata": {
            "tags": []
          },
          "execution_count": 150
        }
      ]
    },
    {
      "cell_type": "code",
      "metadata": {
        "id": "yEDw0OFeu4uY",
        "colab_type": "code",
        "colab": {
          "base_uri": "https://localhost:8080/",
          "height": 34
        },
        "outputId": "3238aa7a-8def-45f5-8e80-f845c0e9dd44"
      },
      "source": [
        "outliers = [i for i in s_sal if ((i < boxplot_range[0]) or (i > boxplot_range[1]))]\n",
        "print(f'Выбросы: {outliers}')"
      ],
      "execution_count": 175,
      "outputs": [
        {
          "output_type": "stream",
          "text": [
            "Выбросы: [150, 230]\n"
          ],
          "name": "stdout"
        }
      ]
    },
    {
      "cell_type": "markdown",
      "metadata": {
        "id": "VMXW15PuPomB",
        "colab_type": "text"
      },
      "source": [
        "__Задача 3__\n",
        "\n",
        "В университет на факультеты `A` и `B` поступило равное количество студентов, а на факультет `C` студентов поступило столько же, сколько на `A` и `B` вместе. Вероятность того, что студент факультета `A` сдаст первую сессию, равна 0.8. Для студента факультета `B` эта вероятность равна 0.7, а для студента факультета `C` - 0.9. Студент сдал первую сессию. Какова вероятность, что он учится: a) на факультете `A`? б) на факультете `B`? в) на факультете `C`?\n",
        "\n",
        "_Замечание_: да, эта задача не на тему описательных статистик, но тема важная, и её стоит иногда освежать в памяти."
      ]
    },
    {
      "cell_type": "markdown",
      "metadata": {
        "id": "W5weneqgyRhI",
        "colab_type": "text"
      },
      "source": [
        "__Решение__\n",
        "Пусть событие  $\\,S\\,$  заключается в том, что студент сдал экзамен.\n",
        "\n",
        "Событие $A$ - что сдавал студент факультета A\n",
        "\n",
        "Событие $B$ - что сдавал студент факультета B\n",
        "\n",
        "Событие $C$ - что сдавал студент факультета C\n",
        "\n",
        "Вероятности, что сдает именно студент соотвествующего факультета, будут следующие( с учетом того что на А и В одинаковое количество  а на С как на A и B вместе взятые):\n",
        "\n",
        "$P(A) =  P(B)  = 0.25 $\n",
        "\n",
        "$P(C)  = 0.5$\n",
        "\n",
        "Вероятность что студент сдает первую сессию на соотвесвующем факультете будет:\n",
        "\n",
        "$P(S|A) = 0.8$\n",
        "\n",
        "$P(S|B) = 0.7$\n",
        "\n",
        "$P(S|C) = 0.9$\n",
        "\n",
        "Тогда вероятность того что сдавший студент из факультета А по формуле Байеса будет:\n",
        "\n",
        "$$P(A|S) = \\frac{P(S|A) \\cdot P(A)}{P(S)}.$$\n",
        "\n",
        "Полная вероятность:\n",
        "\n",
        "$$P(S) = P(S | A) \\cdot P(A) + P(S | B) \\cdot P(B) + P(S | C) \\cdot P(C) = 0.8*0.25 + 0.7*0.25 + 0.9*0.5 = 0.825 $$\n",
        "\n",
        "Тогда \n",
        "\n",
        "\n",
        "Вероятность того что сдавший студент из факультета A:\n",
        "\n",
        "$$P(A|S) = \\frac{P(S|A) \\cdot P(A)}{P(S)} = \\frac{0.8*0.25}{0.825} = 0.24(24)$$\n",
        "\n",
        "Вероятность того что сдавший студент из факультета B:\n",
        "\n",
        "$$P(B|S) = \\frac{P(S|B) \\cdot P(B)}{P(S)} = \\frac{0.7*0.25}{0.825} = 0.21(21)$$\n",
        "\n",
        "\n",
        "Вероятность того что сдавший студент из факультета C:\n",
        "\n",
        "$$P(C|S) = \\frac{P(S|C) \\cdot P(C)}{P(S)} = \\frac{0.9*0.5}{0.825} = 0.54(54)$$\n",
        "\n"
      ]
    }
  ]
}